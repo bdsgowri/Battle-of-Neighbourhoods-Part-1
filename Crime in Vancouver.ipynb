{
    "cells": [
        {
            "cell_type": "markdown",
            "metadata": {},
            "source": "**1) INTRODUCTION / BUSINESS PROBLEM:**\n\n"
        },
        {
            "cell_type": "markdown",
            "metadata": {},
            "source": "The idea of this study is to help people planning to settle either temporarily in Vancouver by renting a house or to settle permanently by buying a house so that they would be able to choose a safer location and stay and feel safe by providing data about the safe and unsafe areas, predominant type of crime as well as the crime trend over years in various regions."
        },
        {
            "cell_type": "markdown",
            "metadata": {},
            "source": "**2) SOURCE DATA:**"
        },
        {
            "cell_type": "markdown",
            "metadata": {},
            "source": "To provide the stakeholders the necessary information I'll be downloading .csv file from https://www.kaggle.com/wosaku/crime-in-vancouver  and used https://labs.cognitiveclass.ai/tools/jupyterlab/ to execute and show my work.**\n\n"
        },
        {
            "cell_type": "markdown",
            "metadata": {},
            "source": "**3) METHODOLOGY:**"
        },
        {
            "cell_type": "markdown",
            "metadata": {},
            "source": "For this report I used a few bar graphs that could help a new investor to decide the best neighborhood to buy or rent a house in Vancouver based on its crime type, trend  etc. In order to do that I've used the Kaggle platform https://www.kaggle.com/wosaku/crime-in-vancouver to derive data along  with Decision Tree Classifier to predict the 2017 year along with its accuracy.**\n\n\n"
        },
        {
            "cell_type": "markdown",
            "metadata": {},
            "source": "**4) RESULTS:**\n"
        },
        {
            "cell_type": "markdown",
            "metadata": {},
            "source": "\nBy comparing the graphs,  we could notice majority of the crime type, and crime trend over years, also we could predict the 2017 crime using Decision Tree Classifier.**\n\n"
        },
        {
            "cell_type": "markdown",
            "metadata": {},
            "source": "\n**5) DISCUSSION:** \n"
        },
        {
            "cell_type": "markdown",
            "metadata": {},
            "source": "When I started this study, I initially was planning on to use API and execute k- means clustering to find clusters of safer regions, so that it would give a clear idea of map showing a safer cluster neighbourhood. My future work would be to find the safe region  clusters.\n\n"
        },
        {
            "cell_type": "markdown",
            "metadata": {},
            "source": "\n**6) CONCLUSION:**"
        },
        {
            "cell_type": "markdown",
            "metadata": {},
            "source": "\nThis report would be helpful for people planning to settle in Vancouver either temporarily for rent or for permanently settle in Vancouver by buying a house, by comparing the type of crimes in various locations, safe and unsafe areas, and crime trend.  However, it would be necessary to analyse all variables such as cost of the house, size, rent amount, nearby grocery stores etc. Thus, further exploration is required.**\n"
        }
    ],
    "metadata": {
        "kernelspec": {
            "display_name": "Python 3.6",
            "language": "python",
            "name": "python3"
        },
        "language_info": {
            "codemirror_mode": {
                "name": "ipython",
                "version": 3
            },
            "file_extension": ".py",
            "mimetype": "text/x-python",
            "name": "python",
            "nbconvert_exporter": "python",
            "pygments_lexer": "ipython3",
            "version": "3.6.9"
        }
    },
    "nbformat": 4,
    "nbformat_minor": 1
}